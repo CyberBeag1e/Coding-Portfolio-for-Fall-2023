{
 "cells": [
  {
   "cell_type": "code",
   "execution_count": 1,
   "metadata": {},
   "outputs": [],
   "source": [
    "import math\n",
    "from Binomial_Option_Pricing import BinomialTree"
   ]
  },
  {
   "attachments": {},
   "cell_type": "markdown",
   "metadata": {},
   "source": [
    "### Tree Initializing"
   ]
  },
  {
   "cell_type": "code",
   "execution_count": 2,
   "metadata": {},
   "outputs": [],
   "source": [
    "tree = BinomialTree()\n",
    "tree.setParams(S=50, K=45, N=7, T=1, sigma=0.08 * math.sqrt(12), rtn=0.12)\n",
    "tree.generateTree()"
   ]
  },
  {
   "attachments": {},
   "cell_type": "markdown",
   "metadata": {},
   "source": [
    "### Value Calculation"
   ]
  },
  {
   "cell_type": "code",
   "execution_count": 3,
   "metadata": {},
   "outputs": [],
   "source": [
    "tree.valCal(isCall=False)"
   ]
  },
  {
   "attachments": {},
   "cell_type": "markdown",
   "metadata": {},
   "source": [
    "### Print Option Value of Each Node"
   ]
  },
  {
   "cell_type": "code",
   "execution_count": 4,
   "metadata": {},
   "outputs": [
    {
     "name": "stdout",
     "output_type": "stream",
     "text": [
      "\n",
      "\n",
      "00:                                                         1.310161\n",
      "                                                           /        \\\n",
      "01:                                                 0.5456411        2.319449\n",
      "                                                   /        \\      /        \\\n",
      "02:                                         0.1340051        1.082841        3.959773\n",
      "                                           /        \\      /        \\      /        \\\n",
      "03:                                 0.000000        0.3071868        2.097229        6.448551\n",
      "                                   /        \\      /        \\      /        \\      /        \\\n",
      "04:                         0.000000        0.000000        0.7041805        3.924975        9.862828\n",
      "                           /        \\      /        \\      /        \\      /        \\      /        \\\n",
      "05:                 0.000000        0.000000        0.000000        1.614230        6.974167        13.86773\n",
      "                   /        \\      /        \\      /        \\      /        \\      /        \\      /        \\\n",
      "06:         0.000000        0.000000        0.000000        0.000000        3.700384        11.34922        17.56472\n",
      "           /        \\      /        \\      /        \\      /        \\      /        \\      /        \\      /        \\\n",
      "07: 0.000000        0.000000        0.000000        0.000000        0.000000        8.482586        15.38443        20.98182\n"
     ]
    }
   ],
   "source": [
    "tree.printTree(printType=\"value\")"
   ]
  },
  {
   "attachments": {},
   "cell_type": "markdown",
   "metadata": {},
   "source": [
    "### Print Stock Price of Each Node"
   ]
  },
  {
   "cell_type": "code",
   "execution_count": 5,
   "metadata": {},
   "outputs": [
    {
     "name": "stdout",
     "output_type": "stream",
     "text": [
      "\n",
      "\n",
      "00:                                                         50.00000\n",
      "                                                           /        \\\n",
      "01:                                                 55.52135        45.02773\n",
      "                                                   /        \\      /        \\\n",
      "02:                                         61.65240        50.00000        40.54992\n",
      "                                           /        \\      /        \\      /        \\\n",
      "03:                                 68.46049        55.52135        45.02773        36.51741\n",
      "                                   /        \\      /        \\      /        \\      /        \\\n",
      "04:                         76.02037        61.65240        50.00000        40.54992        32.88592\n",
      "                           /        \\      /        \\      /        \\      /        \\      /        \\\n",
      "05:                 84.41507        68.46049        55.52135        45.02773        36.51741        29.61557\n",
      "                   /        \\      /        \\      /        \\      /        \\      /        \\      /        \\\n",
      "06:         93.73677        76.02037        61.65240        50.00000        40.54992        32.88592        26.67043\n",
      "           /        \\      /        \\      /        \\      /        \\      /        \\      /        \\      /        \\\n",
      "07: 104.0878        84.41507        68.46049        55.52135        45.02773        36.51741        29.61557        24.01818\n"
     ]
    }
   ],
   "source": [
    "tree.printTree()"
   ]
  }
 ],
 "metadata": {
  "kernelspec": {
   "display_name": "Python 3",
   "language": "python",
   "name": "python3"
  },
  "language_info": {
   "codemirror_mode": {
    "name": "ipython",
    "version": 3
   },
   "file_extension": ".py",
   "mimetype": "text/x-python",
   "name": "python",
   "nbconvert_exporter": "python",
   "pygments_lexer": "ipython3",
   "version": "3.8.5"
  },
  "orig_nbformat": 4,
  "vscode": {
   "interpreter": {
    "hash": "aee8b7b246df8f9039afb4144a1f6fd8d2ca17a180786b69acc140d282b71a49"
   }
  }
 },
 "nbformat": 4,
 "nbformat_minor": 2
}
